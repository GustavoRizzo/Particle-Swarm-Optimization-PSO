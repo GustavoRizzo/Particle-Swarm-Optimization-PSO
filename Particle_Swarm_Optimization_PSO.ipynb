{
  "nbformat": 4,
  "nbformat_minor": 0,
  "metadata": {
    "colab": {
      "name": "Particle-Swarm-Optimization-PSO.ipynb",
      "private_outputs": true,
      "provenance": [],
      "collapsed_sections": [],
      "authorship_tag": "ABX9TyP+Has/uj8v2QtYAiNf7pOl",
      "include_colab_link": true
    },
    "kernelspec": {
      "name": "python3",
      "display_name": "Python 3"
    }
  },
  "cells": [
    {
      "cell_type": "markdown",
      "metadata": {
        "id": "view-in-github",
        "colab_type": "text"
      },
      "source": [
        "<a href=\"https://colab.research.google.com/github/GustavoRizzo/Particle-Swarm-Optimization-PSO/blob/main/Particle_Swarm_Optimization_PSO.ipynb\" target=\"_parent\"><img src=\"https://colab.research.google.com/assets/colab-badge.svg\" alt=\"Open In Colab\"/></a>"
      ]
    },
    {
      "cell_type": "markdown",
      "metadata": {
        "id": "w0ZvT9Y7jLN3"
      },
      "source": [
        "Material inspirado em video do canal PyShine, https://www.youtube.com/watch?v=xEQv9YdvRiA&list=PLpCxkbETr8et3ouRXF2LlqobHMSb53_7b&index=25&ab_channel=PyShine\n"
      ]
    },
    {
      "cell_type": "markdown",
      "metadata": {
        "id": "VXmfSHsmmFmw"
      },
      "source": [
        "Problema: imagine um exame de animais, procurando uma fonte de comida. ninguem saber onde a fonte realemntes está. Então eles se espalham para procurar e o que tiver mais perto naquele momento lança um sinal para os demais, que vão tentar se aproximar desse sinal com o intuito de encontrar o alvo."
      ]
    },
    {
      "cell_type": "markdown",
      "metadata": {
        "id": "s0r-t8kMkOZe"
      },
      "source": [
        "Pseudo código:\n",
        "1) criar as particulas\n",
        "2) avaliar a distancia do tergect de cada particula"
      ]
    },
    {
      "cell_type": "markdown",
      "metadata": {
        "id": "uF_tfN-1rG7f"
      },
      "source": [
        "Melhorias:poderia criar uma classe chamada ambiente/universo/word/mundo ela \n",
        "\n",
        "*   saberia tudo o que existe dentro dela: o tamanho do mundo; a posição de cada individua (caçador e caça)\n",
        "*   a particula pode saber a quantidade de dimensões através da posição inicial (x0) passado para ela. E armazenar esse número dentro de uma variável interna chamada num_dimensions.\n",
        "\n",
        "\n",
        "*   criar lógica para as cores, que de preferencia faça parecer um enxame \n",
        "*   melhorar a lógica de quando não oferecem uma velocidade incial a particula. Tentar usar map\n",
        "\n",
        "\n",
        "\n",
        "\n",
        "\n",
        "\n",
        "\n"
      ]
    },
    {
      "cell_type": "markdown",
      "metadata": {
        "id": "QDJLis__g3Bt"
      },
      "source": [
        "# **Parte Lógica**"
      ]
    },
    {
      "cell_type": "code",
      "metadata": {
        "id": "K4FjgQh_rg1N"
      },
      "source": [
        "# Bibliotecas\n",
        "import random as rand\n",
        "import math\n",
        "import numpy as np\n",
        "import matplotlib.pyplot as plt\n",
        "\n",
        "from copy import deepcopy\n",
        "from typing import List\n",
        "import json"
      ],
      "execution_count": null,
      "outputs": []
    },
    {
      "cell_type": "code",
      "metadata": {
        "id": "NVQL5SC5DnlS"
      },
      "source": [
        "# Configurações\n",
        "\n",
        "pos_ini_enxame  = [5,5]                     # posição inicial do enxame\n",
        "limites  = [(-1000,1000),(-1000,1000)]      # limites do ambiente\n",
        "\n",
        "colores = np.array([\n",
        "    ( 31, 119, 180), (174, 199, 232), (255, 127,  14), (255, 187, 120),\n",
        "    ( 44, 160,  44), (152, 223, 138), (214,  39,  40), (255, 152, 150),\n",
        "    (148, 103, 189), (197, 176, 213), (140,  86,  75), (196, 156, 148),\n",
        "    (227, 119, 194), (247, 182, 210), (127, 127, 127), (199, 199, 199),\n",
        "    (188, 189,  34), (219, 219, 141), ( 23, 190, 207), (158, 218, 229),\n",
        "\n",
        "    ( 31, 119, 180), (174, 199, 232), (255, 127,  14), (255, 187, 120),\n",
        "    ( 44, 160,  44), (152, 223, 138), (214,  39,  40), (255, 152, 150),\n",
        "    (148, 103, 189), (197, 176, 213), (140,  86,  75), (196, 156, 148),\n",
        "    (227, 119, 194), (247, 182, 210), (127, 127, 127), (199, 199, 199),\n",
        "    (188, 189,  34), (219, 219, 141), ( 23, 190, 207), (158, 218, 229),\n",
        "\n",
        "    ( 31, 119, 180), (174, 199, 232), (255, 127,  14), (255, 187, 120),\n",
        "    ( 44, 160,  44), (152, 223, 138), (214,  39,  40), (255, 152, 150),\n",
        "    (148, 103, 189), (197, 176, 213), (140,  86,  75), (196, 156, 148),\n",
        "    (227, 119, 194), (247, 182, 210), (127, 127, 127), (199, 199, 199),\n",
        "    (188, 189,  34), (219, 219, 141), ( 23, 190, 207), (158, 218, 229),\n",
        "\n",
        "    ( 31, 119, 180), (174, 199, 232), (255, 127,  14), (255, 187, 120),\n",
        "    ( 44, 160,  44), (152, 223, 138), (214,  39,  40), (255, 152, 150),\n",
        "    (148, 103, 189), (197, 176, 213), (140,  86,  75), (196, 156, 148),\n",
        "    (227, 119, 194), (247, 182, 210), (127, 127, 127), (199, 199, 199),\n",
        "    (188, 189,  34), (219, 219, 141), ( 23, 190, 207), (158, 218, 229)\n",
        "\n",
        "]) / 255.\n"
      ],
      "execution_count": null,
      "outputs": []
    },
    {
      "cell_type": "code",
      "metadata": {
        "id": "_fNfiHz0LY7k"
      },
      "source": [
        "# Particula_2D\n",
        "class Particula_2D:\n",
        "  def __init__(self, pos_ini=[0.0, 0.0], vel_ini=[0.0, 0.0], ace_ini=[0.0, 0.0], nome=''):\n",
        "    self.nome = nome\n",
        "    self.pos = []\n",
        "    self.vel = []\n",
        "    self.ace = []\n",
        "    self.pos.extend(pos_ini)    \n",
        "    self.vel.extend(vel_ini)\n",
        "    self.ace.extend(ace_ini)    \n",
        "\n",
        "  def update_vel(self):\n",
        "    self.vel = list(map(lambda v, a: v + a, self.vel, self.ace))\n",
        "\n",
        "  def update_pos(self):\n",
        "    self.pos = list(map(lambda p, v, a: ( p + v*1 + (1/2)*a*(1^2) ), self.pos, self.vel, self.ace))\n",
        "    self.update_vel()"
      ],
      "execution_count": null,
      "outputs": []
    },
    {
      "cell_type": "code",
      "metadata": {
        "id": "EUf7k6BhFv1G"
      },
      "source": [
        "# Abelha\n",
        "class Abelha:\n",
        "  def __init__(self, pos_ini=[0.0, 0.0], vel_ini=[0.0, 0.0]):\n",
        "    self.pos = []\n",
        "    self.vel = []\n",
        "    self.melhor_pos = []\n",
        "    self.melhor_erro = []\n",
        "    self.pos.extend(pos_ini)\n",
        "    if not vel_ini: \n",
        "      self.vel.extend(np.random.randint(0,2, len(self.pos)))\n",
        "    else:\n",
        "      self.vel.extend(vel_ini)"
      ],
      "execution_count": null,
      "outputs": []
    },
    {
      "cell_type": "code",
      "metadata": {
        "id": "Ku-im3RvUvFP"
      },
      "source": [
        "# Abelha \n",
        "# herda de particula\n",
        "# veliciadade randomica\n",
        "# calcula erro\n",
        "# salva melhor erro"
      ],
      "execution_count": null,
      "outputs": []
    },
    {
      "cell_type": "code",
      "metadata": {
        "id": "R2YGvJbR3gsj"
      },
      "source": [
        "# Iteracoes\n",
        "class Iteracao:\n",
        "  def __init__(self, elementos: List[Particula_2D]):\n",
        "    if ( all(isinstance(n, Particula_2D) for n in elementos) ):\n",
        "      self.elementos= deepcopy(elementos)\n",
        "    else:\n",
        "      raise NameError('O argumneto passado deve ser uma lista de Particulas')"
      ],
      "execution_count": null,
      "outputs": []
    },
    {
      "cell_type": "code",
      "metadata": {
        "id": "LHmLfZXoHg0s"
      },
      "source": [
        "# Inicializa elementos da cena\n",
        "pos_teste = np.array([-8.0, -8.0])\n",
        "vel_teste = np.array([1.7, 2.9])\n",
        "ace_teste = np.array([-0.1, -0.3])\n",
        "\n",
        "p_teste= Particula_2D( pos_teste, vel_teste, ace_teste, nome='p_teste')\n",
        "p_teste2= Particula_2D( -pos_teste, -vel_teste, -ace_teste, nome='p_teste2')\n",
        "\n",
        "# Lista todos os elementos\n",
        "elementos = [p_teste, p_teste2]"
      ],
      "execution_count": null,
      "outputs": []
    },
    {
      "cell_type": "code",
      "metadata": {
        "id": "innRRwerWT-o"
      },
      "source": [
        "# Processa o algoritimo de PSO\n",
        "logIteracoes = []\n",
        "logIteracoes.append( Iteracao(elementos) )\n",
        "\n",
        "for i in range(30):\n",
        "  [e.update_pos() for e in elementos]\n",
        "  ite = Iteracao(elementos)\n",
        "  logIteracoes.append( deepcopy(ite) )"
      ],
      "execution_count": null,
      "outputs": []
    },
    {
      "cell_type": "code",
      "metadata": {
        "id": "Xk35M0N6vgzG"
      },
      "source": [
        "# Serialization logIteracoes\n",
        "json_data = json.dumps(logIteracoes, default=lambda o: o.__dict__, indent=4)"
      ],
      "execution_count": null,
      "outputs": []
    },
    {
      "cell_type": "markdown",
      "metadata": {
        "id": "7R_J8e0Llx0D"
      },
      "source": [
        "# **Parte Visual**"
      ]
    },
    {
      "cell_type": "code",
      "metadata": {
        "id": "SZJI87hg-jMu"
      },
      "source": [
        "# Importa as bibliotecas resposnsaveis pela parte gráfica \n",
        "import numpy as np\n",
        "import matplotlib.pyplot as plt\n",
        "from matplotlib import animation, rc, lines\n",
        "from IPython.display import HTML"
      ],
      "execution_count": null,
      "outputs": []
    },
    {
      "cell_type": "code",
      "metadata": {
        "id": "46UlxWQeyVjA"
      },
      "source": [
        "# Desserializar os dados vindos do PSO\n",
        "iteracoes = json.loads(json_data)\n",
        "\n",
        "print(iteracoes)    # logInterações\n",
        "print(type(iteracoes)) \n",
        "print(  iteracoes[1] ) # interação\n",
        "print(type(iteracoes[1]))\n",
        "print(  iteracoes[1]['elementos'] ) # elementos\n",
        "print(type(iteracoes[1]['elementos']))\n",
        "print(  iteracoes[1]['elementos'][0] ) # particula  -> ser o nome da particula\n",
        "print(type(iteracoes[1]['elementos'][0]))\n",
        "print(  iteracoes[1]['elementos'][0]['pos'] ) # vetor posição\n",
        "print(type(iteracoes[1]['elementos'][0]['pos']))\n",
        "print(  iteracoes[1]['elementos'][0]['pos'][0] ) # valor posição X\n",
        "print(type(iteracoes[1]['elementos'][0]['pos'][0]))"
      ],
      "execution_count": null,
      "outputs": []
    },
    {
      "cell_type": "code",
      "metadata": {
        "id": "Eqq-47CG_CEM"
      },
      "source": [
        "# Intancia cena com as suas dimensões\n",
        "fig, ax = plt.subplots()\n",
        "\n",
        "ax.set_xlim(( -10, 10))\n",
        "ax.set_ylim((-10, 10))"
      ],
      "execution_count": null,
      "outputs": []
    },
    {
      "cell_type": "code",
      "metadata": {
        "id": "xR2LG47U9YJJ"
      },
      "source": [
        "# Métodos auxiliares para criação das animação\n",
        "\n",
        "def inicializaParticulas(iteracoes):\n",
        "  elementos = iteracoes[0]['elementos']\n",
        "  for id, pat in enumerate(elementos):\n",
        "    p, = ax.plot([0], 'o')\n",
        "    nome = elementos[id]['nome']\n",
        "    p.set_label(nome)\n",
        "  return tuple(ax.lines)\n",
        "\n",
        "\n",
        "def atualizaPosicaoParticulas( frame , iteracoes):\n",
        "  elementos_desenhados = ax.lines\n",
        "  elementos = iteracoes[frame]['elementos']\n",
        "  for id_pat, p in enumerate(elementos):\n",
        "    label_teroica= elementos[id_pat]['nome']\n",
        "    for e in elementos_desenhados:\n",
        "      if( e.get_label() == label_teroica):\n",
        "        e.set_data( elementos[id_pat]['pos'])\n",
        "  return \n",
        "\n",
        "def animate(frame):\n",
        "  atualizaPosicaoParticulas(frame , iteracoes)\n",
        "  return tuple(ax.lines)"
      ],
      "execution_count": null,
      "outputs": []
    },
    {
      "cell_type": "code",
      "metadata": {
        "id": "sHs9a9igI6nI"
      },
      "source": [
        "# Inicializa a animação\n",
        "anim = animation.FuncAnimation(fig, animate,\n",
        "                               init_func= lambda: inicializaParticulas(iteracoes),\n",
        "                               frames=20, interval=150, \n",
        "                               blit=True)"
      ],
      "execution_count": null,
      "outputs": []
    },
    {
      "cell_type": "code",
      "metadata": {
        "id": "Znb_KewzhxN0"
      },
      "source": [
        "# Exibe a animação em HTML\n",
        "HTML(anim.to_jshtml())"
      ],
      "execution_count": null,
      "outputs": []
    }
  ]
}