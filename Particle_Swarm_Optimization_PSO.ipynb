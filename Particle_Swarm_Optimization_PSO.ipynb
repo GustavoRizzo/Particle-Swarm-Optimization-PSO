{
  "nbformat": 4,
  "nbformat_minor": 0,
  "metadata": {
    "colab": {
      "name": "Particle-Swarm-Optimization-PSO.ipynb",
      "private_outputs": true,
      "provenance": [],
      "collapsed_sections": [],
      "authorship_tag": "ABX9TyMK4nJ8OLpoWO3cQRqaJb6C",
      "include_colab_link": true
    },
    "kernelspec": {
      "name": "python3",
      "display_name": "Python 3"
    }
  },
  "cells": [
    {
      "cell_type": "markdown",
      "metadata": {
        "id": "view-in-github",
        "colab_type": "text"
      },
      "source": [
        "<a href=\"https://colab.research.google.com/github/GustavoRizzo/Particle-Swarm-Optimization-PSO/blob/main/Particle_Swarm_Optimization_PSO.ipynb\" target=\"_parent\"><img src=\"https://colab.research.google.com/assets/colab-badge.svg\" alt=\"Open In Colab\"/></a>"
      ]
    },
    {
      "cell_type": "markdown",
      "metadata": {
        "id": "w0ZvT9Y7jLN3"
      },
      "source": [
        "Material inspirado em video do canal PyShine, https://www.youtube.com/watch?v=xEQv9YdvRiA&list=PLpCxkbETr8et3ouRXF2LlqobHMSb53_7b&index=25&ab_channel=PyShine\n"
      ]
    },
    {
      "cell_type": "markdown",
      "metadata": {
        "id": "VXmfSHsmmFmw"
      },
      "source": [
        "Problema: imagine um exame de animais, procurando uma fonte de comida. ninguem saber onde a fonte realemntes está. Então eles se espalham para procurar e o que tiver mais perto naquele momento lança um sinal para os demais, que vão tentar se aproximar desse sinal com o intuito de encontrar o alvo."
      ]
    },
    {
      "cell_type": "markdown",
      "metadata": {
        "id": "s0r-t8kMkOZe"
      },
      "source": [
        "Pseudo código:\n",
        "1) criar as particulas\n",
        "2) avaliar a distancia do tergect de cada particula"
      ]
    },
    {
      "cell_type": "markdown",
      "metadata": {
        "id": "uF_tfN-1rG7f"
      },
      "source": [
        "Melhorias:poderia criar uma classe chamada ambiente/universo/word/mundo ela \n",
        "\n",
        "*   saberia tudo o que existe dentro dela: o tamanho do mundo; a posição de cada individua (caçador e caça)\n",
        "*   a particula pode saber a quantidade de dimensões através da posição inicial (x0) passado para ela. E armazenar esse número dentro de uma variável interna chamada num_dimensions.\n",
        "\n",
        "\n",
        "*   criar lógica para as cores, que de preferencia faça parecer um enxame \n",
        "*   melhorar a lógica de quando não oferecem uma velocidade incial a particula. Tentar usar map\n",
        "\n",
        "\n",
        "\n",
        "\n",
        "\n",
        "\n",
        "\n"
      ]
    },
    {
      "cell_type": "markdown",
      "metadata": {
        "id": "QDJLis__g3Bt"
      },
      "source": [
        "# **Parte Lógica**"
      ]
    },
    {
      "cell_type": "code",
      "metadata": {
        "id": "K4FjgQh_rg1N"
      },
      "source": [
        "# Bibliotecas\n",
        "import random as rand\n",
        "import numpy as np\n",
        "from copy import deepcopy\n",
        "import uuid \n",
        "from typing import List\n",
        "import json\n",
        "import math"
      ],
      "execution_count": null,
      "outputs": []
    },
    {
      "cell_type": "code",
      "metadata": {
        "id": "xGHzNT9xIBoZ"
      },
      "source": [
        "# Configurações\n",
        "json_config = '''\n",
        "{\n",
        "  \"max_iteracoes\" : 50,\n",
        "  \"cacador\" : {\n",
        "    \"max_vel\" : 1.7,\n",
        "    \"coeficiente_inercia\" : 0.7,\n",
        "    \"coeficiente_aceleracao_cognitivo\" : 1,\n",
        "    \"coeficiente_aceleracao_social\" : 2\n",
        "  }\n",
        "}\n",
        "'''\n",
        "\n",
        "config = json.loads(json_config)"
      ],
      "execution_count": null,
      "outputs": []
    },
    {
      "cell_type": "code",
      "metadata": {
        "id": "_fNfiHz0LY7k"
      },
      "source": [
        "# Particula_2D\n",
        "class Particula_2D:\n",
        "  def __init__(self, pos_ini=[0.0, 0.0], vel_ini=[0.0, 0.0], ace_ini=[0.0, 0.0], nome=''):\n",
        "    self.nome = nome\n",
        "    self.pos = []\n",
        "    self.vel = []\n",
        "    self.ace = []\n",
        "    self.pos.extend(pos_ini)    \n",
        "    self.vel.extend(vel_ini)\n",
        "    self.ace.extend(ace_ini)    \n",
        "\n",
        "  def update_vel(self):\n",
        "    self.vel = list(map(lambda v, a: v + a, self.vel, self.ace))\n",
        "\n",
        "  def update_pos(self):\n",
        "    self.pos = list(map(lambda p, v, a: ( p + v*1 + (1/2)*a*(1^2) ), self.pos, self.vel, self.ace))\n",
        "\n",
        "  def update(self):\n",
        "    self.update_pos()\n",
        "    self.update_vel()\n",
        "    "
      ],
      "execution_count": null,
      "outputs": []
    },
    {
      "cell_type": "code",
      "metadata": {
        "id": "IdJEGGJgoj_U"
      },
      "source": [
        "class Cacador(Particula_2D):\n",
        "  def __init__(self, pos_ini=[0.0, 0.0], vel_ini=[0.0, 0.0], nome=''):\n",
        "    super().__init__(pos_ini, vel_ini, ace_ini=[0.0, 0.0], nome=nome)\n",
        "    self.melhor_pos_pessoal = []\n",
        "    self.melhor_pos_pessoal.extend(pos_ini)\n",
        "    self.melhor_score = None\n",
        "\n",
        "\n",
        "  def update(self, socre_atual, melhor_pos_social):\n",
        "    self.update_pos()\n",
        "    self.update_melhor_score(socre_atual)\n",
        "    self.update_vel(melhor_pos_social)\n",
        "\n",
        "    \n",
        "  def update_vel(self, melhor_pos_social):\n",
        "    w = config['cacador']['coeficiente_inercia'] \n",
        "    c1 = config['cacador']['coeficiente_aceleracao_cognitivo']\n",
        "    c2 = config['cacador']['coeficiente_aceleracao_social']\n",
        "    r1=rand.random()\n",
        "    r2=rand.random()\n",
        "    for i in range(0,2):\n",
        "      cog_vel=r1*c1*(self.melhor_pos_pessoal[i]-self.pos[i])\n",
        "      social_vel=r2*c2*(melhor_pos_social[i]-self.pos[i])\n",
        "      self.vel[i]=w*self.vel[i]+cog_vel+social_vel\n",
        "    self.limita_veleocidade_máxima()    \n",
        "    return\n",
        "\n",
        "\n",
        "  def limita_veleocidade_máxima(self):\n",
        "    max_vel = config['cacador']['max_vel']\n",
        "    v = np.array(self.vel)\n",
        "    mod_vel = np.linalg.norm(v)\n",
        "    if (mod_vel > max_vel):\n",
        "      nova_vel = v * (max_vel/mod_vel) \n",
        "      self.vel = nova_vel.tolist()\n",
        "      return\n",
        "    else:\n",
        "      return\n",
        "  \n",
        "\n",
        "  def update_melhor_score(self, score):\n",
        "    if self.melhor_score is None or score > self.melhor_score :\n",
        "      self.melhor_score = score\n",
        "      self.melhor_pos_pessoal = self.pos"
      ],
      "execution_count": null,
      "outputs": []
    },
    {
      "cell_type": "code",
      "metadata": {
        "id": "zzG-p8N2dWrm"
      },
      "source": [
        "def vertices_poligono(centro, num_lados, raio):\n",
        "  rad = (2 * math.pi) / num_lados\n",
        "  vertices = []\n",
        "  for p in range(num_lados):\n",
        "    px = centro[0] + raio * math.cos(rad *p)\n",
        "    py = centro[1] + raio * math.sin(rad *p)\n",
        "    vertices.append([px,py])\n",
        "  return vertices"
      ],
      "execution_count": null,
      "outputs": []
    },
    {
      "cell_type": "code",
      "metadata": {
        "id": "R2YGvJbR3gsj"
      },
      "source": [
        "# Iteracao\n",
        "class Iteracao:\n",
        "  def __init__(self, elementos: List[Particula_2D]):\n",
        "    if ( all(isinstance(n, Particula_2D) for n in elementos) ):\n",
        "      self.elementos= deepcopy(elementos)\n",
        "    else:\n",
        "      raise NameError('O argumneto passado deve ser uma lista de Particulas')\n",
        "\n",
        "  \n",
        "  @staticmethod\n",
        "  def calcula_score(alvo, pos):\n",
        "    a = np.array(alvo)\n",
        "    b = np.array(pos)\n",
        "    dist = np.linalg.norm(a-b)\n",
        "    return  (-1)*dist\n",
        "\n",
        "\n",
        "  @staticmethod\n",
        "  def get_pos_alvo(elementos):\n",
        "    lst_alvo = [e for e in elementos if e.nome == 'alvo']\n",
        "    return lst_alvo[0].pos\n",
        "\n",
        "\n",
        "  @staticmethod\n",
        "  def get_pos_melhor_cacador(elementos):\n",
        "    melhor_pos=[]\n",
        "    maior_score = None\n",
        "    pos_alvo = Iteracao.get_pos_alvo(elementos)\n",
        "    lst_cacadores = [e for e in elementos if (isinstance(e, Cacador))]\n",
        "    for c in lst_cacadores:\n",
        "      rec = Iteracao.calcula_score(pos_alvo, c.pos)\n",
        "      if (maior_score is None or rec > maior_score):\n",
        "        maior_score = rec\n",
        "        melhor_pos = c.pos\n",
        "    return melhor_pos"
      ],
      "execution_count": null,
      "outputs": []
    },
    {
      "cell_type": "code",
      "metadata": {
        "id": "zzaEmvlGjJ_9"
      },
      "source": [
        "# Inicializa elementos da cena\n",
        "elementos =[]\n",
        "\n",
        "# Enxame\n",
        "cordenadas = vertices_poligono([-3,-3], 12, 4)\n",
        "for pos in cordenadas:\n",
        "  c = Cacador(pos, nome=uuid.uuid4().hex)\n",
        "  elementos.append(c)\n",
        "\n",
        "# Alvo\n",
        "alvo= Particula_2D( [8,8], nome='alvo')\n",
        "elementos.append(alvo)"
      ],
      "execution_count": null,
      "outputs": []
    },
    {
      "cell_type": "code",
      "metadata": {
        "id": "innRRwerWT-o"
      },
      "source": [
        "# Processa o algoritimo de PSO\n",
        "logIteracoes = []\n",
        "logIteracoes.append( Iteracao(elementos) )\n",
        "\n",
        "for i in range(config['max_iteracoes']):\n",
        "  # atualiza todos que não são caçadores\n",
        "  [e.update() for e in elementos if (not isinstance(e, Cacador))]  \n",
        "\n",
        "  # atualiza caçadores\n",
        "  alvo = Iteracao.get_pos_alvo(elementos)\n",
        "  pos_mlehor_cacador = Iteracao.get_pos_melhor_cacador(elementos)\n",
        "  lst_cacadores = [e for e in elementos if (isinstance(e, Cacador))]\n",
        "  for c in lst_cacadores:\n",
        "    score = Iteracao.calcula_score(alvo, c.pos)\n",
        "    c.update(score, pos_mlehor_cacador)\n",
        "\n",
        "  ite = Iteracao(elementos)\n",
        "  logIteracoes.append( deepcopy(ite) )"
      ],
      "execution_count": null,
      "outputs": []
    },
    {
      "cell_type": "code",
      "metadata": {
        "id": "Xk35M0N6vgzG"
      },
      "source": [
        "# Serialization logIteracoes\n",
        "json_data = json.dumps(logIteracoes, default=lambda o: o.__dict__, indent=4)"
      ],
      "execution_count": null,
      "outputs": []
    },
    {
      "cell_type": "markdown",
      "metadata": {
        "id": "7R_J8e0Llx0D"
      },
      "source": [
        "# **Parte Visual**"
      ]
    },
    {
      "cell_type": "code",
      "metadata": {
        "id": "SZJI87hg-jMu"
      },
      "source": [
        "# Importa as bibliotecas resposnsaveis pela parte gráfica \n",
        "import numpy as np\n",
        "import matplotlib.pyplot as plt\n",
        "from matplotlib import animation, rc, lines\n",
        "from IPython.display import HTML"
      ],
      "execution_count": null,
      "outputs": []
    },
    {
      "cell_type": "code",
      "metadata": {
        "id": "46UlxWQeyVjA"
      },
      "source": [
        "# Desserializar os dados vindos do PSO\n",
        "iteracoes = json.loads(json_data)\n",
        "\n",
        "# Determina a quantida de frames\n",
        "num_frames = len(iteracoes)"
      ],
      "execution_count": null,
      "outputs": []
    },
    {
      "cell_type": "code",
      "metadata": {
        "id": "Eqq-47CG_CEM"
      },
      "source": [
        "# Intancia cena com as suas dimensões\n",
        "fig, ax = plt.subplots()\n",
        "\n",
        "ax.set_xlim(( -10, 10))\n",
        "ax.set_ylim((-10, 10))"
      ],
      "execution_count": null,
      "outputs": []
    },
    {
      "cell_type": "code",
      "metadata": {
        "id": "xR2LG47U9YJJ"
      },
      "source": [
        "# Métodos auxiliares para criação das animação\n",
        "\n",
        "def inicializaParticulas(iteracoes):\n",
        "  elementos = iteracoes[0]['elementos']\n",
        "  for id, pat in enumerate(elementos):\n",
        "    p, = ax.plot([0], 'o')\n",
        "    nome = elementos[id]['nome']\n",
        "    p.set_label(nome)\n",
        "  return tuple(ax.lines)\n",
        "\n",
        "\n",
        "def atualizaPosicaoParticulas( frame , iteracoes):\n",
        "  elementos_desenhados = ax.lines\n",
        "  elementos = iteracoes[frame]['elementos']\n",
        "  for id_pat, p in enumerate(elementos):\n",
        "    label_teroica= elementos[id_pat]['nome']\n",
        "    for e in elementos_desenhados:\n",
        "      if( e.get_label() == label_teroica):\n",
        "        e.set_data( elementos[id_pat]['pos'])\n",
        "  return \n",
        "\n",
        "def animate(frame):\n",
        "  atualizaPosicaoParticulas(frame , iteracoes)\n",
        "  return tuple(ax.lines)"
      ],
      "execution_count": null,
      "outputs": []
    },
    {
      "cell_type": "code",
      "metadata": {
        "id": "sHs9a9igI6nI"
      },
      "source": [
        "# Inicializa a animação\n",
        "anim = animation.FuncAnimation(fig, \n",
        "                               animate,\n",
        "                               init_func = lambda: inicializaParticulas(iteracoes),\n",
        "                               frames = num_frames, \n",
        "                               interval=200, \n",
        "                               blit=True)"
      ],
      "execution_count": null,
      "outputs": []
    },
    {
      "cell_type": "code",
      "metadata": {
        "id": "Znb_KewzhxN0"
      },
      "source": [
        "# Exibe a animação em HTML\n",
        "HTML(anim.to_jshtml())"
      ],
      "execution_count": null,
      "outputs": []
    }
  ]
}